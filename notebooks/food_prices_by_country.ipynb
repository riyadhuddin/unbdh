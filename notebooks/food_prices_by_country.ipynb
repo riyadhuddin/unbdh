{
 "cells": [
  {
   "cell_type": "code",
   "execution_count": 1,
   "metadata": {},
   "outputs": [],
   "source": [
    "import pandas as pd\n",
    "import numpy as np\n",
    "import matplotlib.pyplot as plt\n",
    "import seaborn as sns\n",
    "%matplotlib inline"
   ]
  },
  {
   "cell_type": "code",
   "execution_count": 4,
   "metadata": {},
   "outputs": [],
   "source": [
    "# import data\n",
    "bgd = pd.read_csv('D:/vscode/python/unbdh/data/raw/bangladesh/wfp_food_prices_bgd.csv')"
   ]
  },
  {
   "cell_type": "code",
   "execution_count": 10,
   "metadata": {},
   "outputs": [
    {
     "data": {
      "text/html": [
       "<div>\n",
       "<style scoped>\n",
       "    .dataframe tbody tr th:only-of-type {\n",
       "        vertical-align: middle;\n",
       "    }\n",
       "\n",
       "    .dataframe tbody tr th {\n",
       "        vertical-align: top;\n",
       "    }\n",
       "\n",
       "    .dataframe thead th {\n",
       "        text-align: right;\n",
       "    }\n",
       "</style>\n",
       "<table border=\"1\" class=\"dataframe\">\n",
       "  <thead>\n",
       "    <tr style=\"text-align: right;\">\n",
       "      <th></th>\n",
       "      <th>date</th>\n",
       "      <th>admin1</th>\n",
       "      <th>admin2</th>\n",
       "      <th>market</th>\n",
       "      <th>latitude</th>\n",
       "      <th>longitude</th>\n",
       "      <th>category</th>\n",
       "      <th>commodity</th>\n",
       "      <th>unit</th>\n",
       "      <th>priceflag</th>\n",
       "      <th>pricetype</th>\n",
       "      <th>currency</th>\n",
       "      <th>price</th>\n",
       "      <th>usdprice</th>\n",
       "    </tr>\n",
       "  </thead>\n",
       "  <tbody>\n",
       "    <tr>\n",
       "      <th>0</th>\n",
       "      <td>#date</td>\n",
       "      <td>#adm1+name</td>\n",
       "      <td>#adm2+name</td>\n",
       "      <td>#loc+market+name</td>\n",
       "      <td>#geo+lat</td>\n",
       "      <td>#geo+lon</td>\n",
       "      <td>#item+type</td>\n",
       "      <td>#item+name</td>\n",
       "      <td>#item+unit</td>\n",
       "      <td>#item+price+flag</td>\n",
       "      <td>#item+price+type</td>\n",
       "      <td>#currency</td>\n",
       "      <td>#value</td>\n",
       "      <td>#value+usd</td>\n",
       "    </tr>\n",
       "    <tr>\n",
       "      <th>1</th>\n",
       "      <td>1998-07-15</td>\n",
       "      <td>Dhaka</td>\n",
       "      <td>Dhaka</td>\n",
       "      <td>Dhaka</td>\n",
       "      <td>23.81</td>\n",
       "      <td>90.41</td>\n",
       "      <td>cereals and tubers</td>\n",
       "      <td>Rice (coarse, BR-8/ 11/, Guti Sharna)</td>\n",
       "      <td>100 KG</td>\n",
       "      <td>actual</td>\n",
       "      <td>Wholesale</td>\n",
       "      <td>BDT</td>\n",
       "      <td>1261.4</td>\n",
       "      <td>12.5236</td>\n",
       "    </tr>\n",
       "    <tr>\n",
       "      <th>2</th>\n",
       "      <td>1998-07-15</td>\n",
       "      <td>Dhaka</td>\n",
       "      <td>Dhaka</td>\n",
       "      <td>Dhaka</td>\n",
       "      <td>23.81</td>\n",
       "      <td>90.41</td>\n",
       "      <td>cereals and tubers</td>\n",
       "      <td>Wheat</td>\n",
       "      <td>100 KG</td>\n",
       "      <td>actual</td>\n",
       "      <td>Wholesale</td>\n",
       "      <td>BDT</td>\n",
       "      <td>1055.6</td>\n",
       "      <td>10.4804</td>\n",
       "    </tr>\n",
       "    <tr>\n",
       "      <th>3</th>\n",
       "      <td>1998-08-15</td>\n",
       "      <td>Dhaka</td>\n",
       "      <td>Dhaka</td>\n",
       "      <td>Dhaka</td>\n",
       "      <td>23.81</td>\n",
       "      <td>90.41</td>\n",
       "      <td>cereals and tubers</td>\n",
       "      <td>Rice (coarse, BR-8/ 11/, Guti Sharna)</td>\n",
       "      <td>100 KG</td>\n",
       "      <td>actual</td>\n",
       "      <td>Wholesale</td>\n",
       "      <td>BDT</td>\n",
       "      <td>1288.75</td>\n",
       "      <td>12.7952</td>\n",
       "    </tr>\n",
       "    <tr>\n",
       "      <th>4</th>\n",
       "      <td>1998-08-15</td>\n",
       "      <td>Dhaka</td>\n",
       "      <td>Dhaka</td>\n",
       "      <td>Dhaka</td>\n",
       "      <td>23.81</td>\n",
       "      <td>90.41</td>\n",
       "      <td>cereals and tubers</td>\n",
       "      <td>Wheat</td>\n",
       "      <td>100 KG</td>\n",
       "      <td>actual</td>\n",
       "      <td>Wholesale</td>\n",
       "      <td>BDT</td>\n",
       "      <td>1060.0</td>\n",
       "      <td>10.5241</td>\n",
       "    </tr>\n",
       "  </tbody>\n",
       "</table>\n",
       "</div>"
      ],
      "text/plain": [
       "         date      admin1      admin2            market  latitude longitude  \\\n",
       "0       #date  #adm1+name  #adm2+name  #loc+market+name  #geo+lat  #geo+lon   \n",
       "1  1998-07-15       Dhaka       Dhaka             Dhaka     23.81     90.41   \n",
       "2  1998-07-15       Dhaka       Dhaka             Dhaka     23.81     90.41   \n",
       "3  1998-08-15       Dhaka       Dhaka             Dhaka     23.81     90.41   \n",
       "4  1998-08-15       Dhaka       Dhaka             Dhaka     23.81     90.41   \n",
       "\n",
       "             category                              commodity        unit  \\\n",
       "0          #item+type                             #item+name  #item+unit   \n",
       "1  cereals and tubers  Rice (coarse, BR-8/ 11/, Guti Sharna)      100 KG   \n",
       "2  cereals and tubers                                  Wheat      100 KG   \n",
       "3  cereals and tubers  Rice (coarse, BR-8/ 11/, Guti Sharna)      100 KG   \n",
       "4  cereals and tubers                                  Wheat      100 KG   \n",
       "\n",
       "          priceflag         pricetype   currency    price    usdprice  \n",
       "0  #item+price+flag  #item+price+type  #currency   #value  #value+usd  \n",
       "1            actual         Wholesale        BDT   1261.4     12.5236  \n",
       "2            actual         Wholesale        BDT   1055.6     10.4804  \n",
       "3            actual         Wholesale        BDT  1288.75     12.7952  \n",
       "4            actual         Wholesale        BDT   1060.0     10.5241  "
      ]
     },
     "execution_count": 10,
     "metadata": {},
     "output_type": "execute_result"
    }
   ],
   "source": [
    "# check data \n",
    "bgd.head()"
   ]
  },
  {
   "cell_type": "code",
   "execution_count": 11,
   "metadata": {},
   "outputs": [
    {
     "data": {
      "text/html": [
       "<div>\n",
       "<style scoped>\n",
       "    .dataframe tbody tr th:only-of-type {\n",
       "        vertical-align: middle;\n",
       "    }\n",
       "\n",
       "    .dataframe tbody tr th {\n",
       "        vertical-align: top;\n",
       "    }\n",
       "\n",
       "    .dataframe thead th {\n",
       "        text-align: right;\n",
       "    }\n",
       "</style>\n",
       "<table border=\"1\" class=\"dataframe\">\n",
       "  <thead>\n",
       "    <tr style=\"text-align: right;\">\n",
       "      <th></th>\n",
       "      <th>date</th>\n",
       "      <th>admin1</th>\n",
       "      <th>admin2</th>\n",
       "      <th>market</th>\n",
       "      <th>latitude</th>\n",
       "      <th>longitude</th>\n",
       "      <th>category</th>\n",
       "      <th>commodity</th>\n",
       "      <th>unit</th>\n",
       "      <th>priceflag</th>\n",
       "      <th>pricetype</th>\n",
       "      <th>currency</th>\n",
       "      <th>price</th>\n",
       "      <th>usdprice</th>\n",
       "    </tr>\n",
       "  </thead>\n",
       "  <tbody>\n",
       "    <tr>\n",
       "      <th>count</th>\n",
       "      <td>9497</td>\n",
       "      <td>9497</td>\n",
       "      <td>9497</td>\n",
       "      <td>9497</td>\n",
       "      <td>9497</td>\n",
       "      <td>9497</td>\n",
       "      <td>9497</td>\n",
       "      <td>9497</td>\n",
       "      <td>9497</td>\n",
       "      <td>9497</td>\n",
       "      <td>9497</td>\n",
       "      <td>9497</td>\n",
       "      <td>9497</td>\n",
       "      <td>9497</td>\n",
       "    </tr>\n",
       "    <tr>\n",
       "      <th>unique</th>\n",
       "      <td>293</td>\n",
       "      <td>9</td>\n",
       "      <td>64</td>\n",
       "      <td>74</td>\n",
       "      <td>74</td>\n",
       "      <td>74</td>\n",
       "      <td>4</td>\n",
       "      <td>9</td>\n",
       "      <td>4</td>\n",
       "      <td>3</td>\n",
       "      <td>3</td>\n",
       "      <td>2</td>\n",
       "      <td>4614</td>\n",
       "      <td>4649</td>\n",
       "    </tr>\n",
       "    <tr>\n",
       "      <th>top</th>\n",
       "      <td>2020-07-15</td>\n",
       "      <td>Dhaka</td>\n",
       "      <td>Dhaka</td>\n",
       "      <td>Dhaka</td>\n",
       "      <td>23.81</td>\n",
       "      <td>90.41</td>\n",
       "      <td>cereals and tubers</td>\n",
       "      <td>Oil (palm)</td>\n",
       "      <td>KG</td>\n",
       "      <td>actual</td>\n",
       "      <td>Retail</td>\n",
       "      <td>BDT</td>\n",
       "      <td>33.0</td>\n",
       "      <td>0.3276</td>\n",
       "    </tr>\n",
       "    <tr>\n",
       "      <th>freq</th>\n",
       "      <td>188</td>\n",
       "      <td>2582</td>\n",
       "      <td>1954</td>\n",
       "      <td>1191</td>\n",
       "      <td>1191</td>\n",
       "      <td>1191</td>\n",
       "      <td>5244</td>\n",
       "      <td>2295</td>\n",
       "      <td>6489</td>\n",
       "      <td>5048</td>\n",
       "      <td>8784</td>\n",
       "      <td>9496</td>\n",
       "      <td>121</td>\n",
       "      <td>121</td>\n",
       "    </tr>\n",
       "  </tbody>\n",
       "</table>\n",
       "</div>"
      ],
      "text/plain": [
       "              date admin1 admin2 market latitude longitude  \\\n",
       "count         9497   9497   9497   9497     9497      9497   \n",
       "unique         293      9     64     74       74        74   \n",
       "top     2020-07-15  Dhaka  Dhaka  Dhaka    23.81     90.41   \n",
       "freq           188   2582   1954   1191     1191      1191   \n",
       "\n",
       "                  category   commodity  unit priceflag pricetype currency  \\\n",
       "count                 9497        9497  9497      9497      9497     9497   \n",
       "unique                   4           9     4         3         3        2   \n",
       "top     cereals and tubers  Oil (palm)    KG    actual    Retail      BDT   \n",
       "freq                  5244        2295  6489      5048      8784     9496   \n",
       "\n",
       "       price usdprice  \n",
       "count   9497     9497  \n",
       "unique  4614     4649  \n",
       "top     33.0   0.3276  \n",
       "freq     121      121  "
      ]
     },
     "execution_count": 11,
     "metadata": {},
     "output_type": "execute_result"
    }
   ],
   "source": [
    "# describe data\n",
    "bgd.describe()"
   ]
  },
  {
   "cell_type": "code",
   "execution_count": 12,
   "metadata": {},
   "outputs": [
    {
     "name": "stdout",
     "output_type": "stream",
     "text": [
      "<class 'pandas.core.frame.DataFrame'>\n",
      "RangeIndex: 9497 entries, 0 to 9496\n",
      "Data columns (total 14 columns):\n",
      " #   Column     Non-Null Count  Dtype \n",
      "---  ------     --------------  ----- \n",
      " 0   date       9497 non-null   object\n",
      " 1   admin1     9497 non-null   object\n",
      " 2   admin2     9497 non-null   object\n",
      " 3   market     9497 non-null   object\n",
      " 4   latitude   9497 non-null   object\n",
      " 5   longitude  9497 non-null   object\n",
      " 6   category   9497 non-null   object\n",
      " 7   commodity  9497 non-null   object\n",
      " 8   unit       9497 non-null   object\n",
      " 9   priceflag  9497 non-null   object\n",
      " 10  pricetype  9497 non-null   object\n",
      " 11  currency   9497 non-null   object\n",
      " 12  price      9497 non-null   object\n",
      " 13  usdprice   9497 non-null   object\n",
      "dtypes: object(14)\n",
      "memory usage: 1.0+ MB\n"
     ]
    }
   ],
   "source": [
    "bgd.info()"
   ]
  },
  {
   "cell_type": "code",
   "execution_count": 13,
   "metadata": {},
   "outputs": [],
   "source": [
    "# remove duplicate rows\n",
    "bgd = bgd.drop_duplicates()"
   ]
  },
  {
   "cell_type": "code",
   "execution_count": 15,
   "metadata": {},
   "outputs": [],
   "source": [
    "# remove rows with missing values\n",
    "bgd = bgd.dropna()"
   ]
  },
  {
   "cell_type": "code",
   "execution_count": 16,
   "metadata": {},
   "outputs": [
    {
     "name": "stdout",
     "output_type": "stream",
     "text": [
      "<class 'pandas.core.frame.DataFrame'>\n",
      "Int64Index: 9497 entries, 0 to 9496\n",
      "Data columns (total 14 columns):\n",
      " #   Column     Non-Null Count  Dtype \n",
      "---  ------     --------------  ----- \n",
      " 0   date       9497 non-null   object\n",
      " 1   admin1     9497 non-null   object\n",
      " 2   admin2     9497 non-null   object\n",
      " 3   market     9497 non-null   object\n",
      " 4   latitude   9497 non-null   object\n",
      " 5   longitude  9497 non-null   object\n",
      " 6   category   9497 non-null   object\n",
      " 7   commodity  9497 non-null   object\n",
      " 8   unit       9497 non-null   object\n",
      " 9   priceflag  9497 non-null   object\n",
      " 10  pricetype  9497 non-null   object\n",
      " 11  currency   9497 non-null   object\n",
      " 12  price      9497 non-null   object\n",
      " 13  usdprice   9497 non-null   object\n",
      "dtypes: object(14)\n",
      "memory usage: 1.1+ MB\n"
     ]
    }
   ],
   "source": [
    "bgd.info()"
   ]
  },
  {
   "cell_type": "code",
   "execution_count": 20,
   "metadata": {},
   "outputs": [],
   "source": [
    "# remove columns admin1, admin2, longitude, latitude\n",
    "bgd = bgd.drop(['admin1', 'admin2', 'longitude', 'latitude'], axis=1)\n"
   ]
  },
  {
   "cell_type": "code",
   "execution_count": 22,
   "metadata": {},
   "outputs": [
    {
     "data": {
      "text/html": [
       "<div>\n",
       "<style scoped>\n",
       "    .dataframe tbody tr th:only-of-type {\n",
       "        vertical-align: middle;\n",
       "    }\n",
       "\n",
       "    .dataframe tbody tr th {\n",
       "        vertical-align: top;\n",
       "    }\n",
       "\n",
       "    .dataframe thead th {\n",
       "        text-align: right;\n",
       "    }\n",
       "</style>\n",
       "<table border=\"1\" class=\"dataframe\">\n",
       "  <thead>\n",
       "    <tr style=\"text-align: right;\">\n",
       "      <th></th>\n",
       "      <th>date</th>\n",
       "      <th>market</th>\n",
       "      <th>category</th>\n",
       "      <th>commodity</th>\n",
       "      <th>unit</th>\n",
       "      <th>priceflag</th>\n",
       "      <th>pricetype</th>\n",
       "      <th>currency</th>\n",
       "      <th>price</th>\n",
       "      <th>usdprice</th>\n",
       "    </tr>\n",
       "  </thead>\n",
       "  <tbody>\n",
       "    <tr>\n",
       "      <th>0</th>\n",
       "      <td>#date</td>\n",
       "      <td>#loc+market+name</td>\n",
       "      <td>#item+type</td>\n",
       "      <td>#item+name</td>\n",
       "      <td>#item+unit</td>\n",
       "      <td>#item+price+flag</td>\n",
       "      <td>#item+price+type</td>\n",
       "      <td>#currency</td>\n",
       "      <td>#value</td>\n",
       "      <td>#value+usd</td>\n",
       "    </tr>\n",
       "    <tr>\n",
       "      <th>1</th>\n",
       "      <td>1998-07-15</td>\n",
       "      <td>Dhaka</td>\n",
       "      <td>cereals and tubers</td>\n",
       "      <td>Rice (coarse, BR-8/ 11/, Guti Sharna)</td>\n",
       "      <td>100 KG</td>\n",
       "      <td>actual</td>\n",
       "      <td>Wholesale</td>\n",
       "      <td>BDT</td>\n",
       "      <td>1261.4</td>\n",
       "      <td>12.5236</td>\n",
       "    </tr>\n",
       "    <tr>\n",
       "      <th>2</th>\n",
       "      <td>1998-07-15</td>\n",
       "      <td>Dhaka</td>\n",
       "      <td>cereals and tubers</td>\n",
       "      <td>Wheat</td>\n",
       "      <td>100 KG</td>\n",
       "      <td>actual</td>\n",
       "      <td>Wholesale</td>\n",
       "      <td>BDT</td>\n",
       "      <td>1055.6</td>\n",
       "      <td>10.4804</td>\n",
       "    </tr>\n",
       "    <tr>\n",
       "      <th>3</th>\n",
       "      <td>1998-08-15</td>\n",
       "      <td>Dhaka</td>\n",
       "      <td>cereals and tubers</td>\n",
       "      <td>Rice (coarse, BR-8/ 11/, Guti Sharna)</td>\n",
       "      <td>100 KG</td>\n",
       "      <td>actual</td>\n",
       "      <td>Wholesale</td>\n",
       "      <td>BDT</td>\n",
       "      <td>1288.75</td>\n",
       "      <td>12.7952</td>\n",
       "    </tr>\n",
       "    <tr>\n",
       "      <th>4</th>\n",
       "      <td>1998-08-15</td>\n",
       "      <td>Dhaka</td>\n",
       "      <td>cereals and tubers</td>\n",
       "      <td>Wheat</td>\n",
       "      <td>100 KG</td>\n",
       "      <td>actual</td>\n",
       "      <td>Wholesale</td>\n",
       "      <td>BDT</td>\n",
       "      <td>1060.0</td>\n",
       "      <td>10.5241</td>\n",
       "    </tr>\n",
       "  </tbody>\n",
       "</table>\n",
       "</div>"
      ],
      "text/plain": [
       "         date            market            category  \\\n",
       "0       #date  #loc+market+name          #item+type   \n",
       "1  1998-07-15             Dhaka  cereals and tubers   \n",
       "2  1998-07-15             Dhaka  cereals and tubers   \n",
       "3  1998-08-15             Dhaka  cereals and tubers   \n",
       "4  1998-08-15             Dhaka  cereals and tubers   \n",
       "\n",
       "                               commodity        unit         priceflag  \\\n",
       "0                             #item+name  #item+unit  #item+price+flag   \n",
       "1  Rice (coarse, BR-8/ 11/, Guti Sharna)      100 KG            actual   \n",
       "2                                  Wheat      100 KG            actual   \n",
       "3  Rice (coarse, BR-8/ 11/, Guti Sharna)      100 KG            actual   \n",
       "4                                  Wheat      100 KG            actual   \n",
       "\n",
       "          pricetype   currency    price    usdprice  \n",
       "0  #item+price+type  #currency   #value  #value+usd  \n",
       "1         Wholesale        BDT   1261.4     12.5236  \n",
       "2         Wholesale        BDT   1055.6     10.4804  \n",
       "3         Wholesale        BDT  1288.75     12.7952  \n",
       "4         Wholesale        BDT   1060.0     10.5241  "
      ]
     },
     "execution_count": 22,
     "metadata": {},
     "output_type": "execute_result"
    }
   ],
   "source": [
    "bgd.head()"
   ]
  },
  {
   "cell_type": "code",
   "execution_count": 23,
   "metadata": {},
   "outputs": [
    {
     "data": {
      "text/plain": [
       "array(['#loc+market+name', 'Dhaka', 'Dhaka Division',\n",
       "       'Chittagong Division', 'Khulna Division', 'Rajshahi Division',\n",
       "       'Barisal Division', 'Sylhet Division', 'Rangpur Sadar',\n",
       "       'Mymensing Sadar', 'Barguna Sadar', 'Barisal Sadar', 'Bhola Sadar',\n",
       "       'Jhalokati Sadar', 'Patuakhali Sadar', 'Pirojpur Sadar',\n",
       "       'Bandarban Sadar', 'Brahmonbaria Sadar', 'Chittagong Sadar',\n",
       "       'Patiya Sadar', 'Comilla Sadar', 'Cox`s Bazar Sadar', 'Feni Sadar',\n",
       "       'Khagrachari Sadar', 'Laxmipur Sadar', 'Noakhali Sadar',\n",
       "       'Rangamati Sadar', 'Dhaka Sadar', 'Faridpur Sadar',\n",
       "       'Gazipur Sadar', 'Kishoregonj Sadar', 'Madaripur Sadar',\n",
       "       'Manikganj Sadar', 'Munshiganj Sadar', 'Narayanganj Sadar',\n",
       "       'Narsingdi Sadar', 'Rajbari Sadar', 'Shariatpur Sadar',\n",
       "       'Tangail sadar Market', 'Bagerhat Sadar', 'Chuadanga Sadar',\n",
       "       'Jessore Sadar', 'Khulna Sadar', 'Kushtia Sadar', 'Magura Sadar',\n",
       "       'Meherpur Sadar', 'Narail Sadar', 'Satkhira Sadar',\n",
       "       'Jamalpur Sadar', 'Netrakona Sadar', 'Sherpur Sadar',\n",
       "       'Bogra Sadar', 'Jaipurhat Sadar', 'Naogaon Sadar', 'Natore Sadar',\n",
       "       'Nawabgonj Sadar', 'Pabna Sadar', 'Rajshahi Sadar',\n",
       "       'Sirajgonj Sadar', 'Dinajpur Sadar', 'Gaibandha Sadar',\n",
       "       'Kurigram Sadar', 'Lalmonirhat Sadar', 'Nilphamari Sadar',\n",
       "       'Panchagarh Sadar', 'Thakurgaon Sadar', 'Habigonj Sadar',\n",
       "       'Maulavibazar Sadar', 'Sunamgonj Sadar', 'Sylhet Sadar',\n",
       "       'Gopalgonj Sadar', 'Jhenaidah Sadar',\n",
       "       'Rangpur Municipality Market', 'Chandpur Sadar'], dtype=object)"
      ]
     },
     "execution_count": 23,
     "metadata": {},
     "output_type": "execute_result"
    }
   ],
   "source": [
    "# market unique values\n",
    "bgd.market.unique()"
   ]
  },
  {
   "cell_type": "code",
   "execution_count": 27,
   "metadata": {},
   "outputs": [
    {
     "data": {
      "text/plain": [
       "array(['#item+price+type', 'Wholesale', 'Retail'], dtype=object)"
      ]
     },
     "execution_count": 27,
     "metadata": {},
     "output_type": "execute_result"
    }
   ],
   "source": [
    "# pricetype unique values\n",
    "bgd.pricetype.unique()"
   ]
  },
  {
   "cell_type": "code",
   "execution_count": 28,
   "metadata": {},
   "outputs": [
    {
     "data": {
      "text/plain": [
       "array(['#item+price+flag', 'actual', 'aggregate'], dtype=object)"
      ]
     },
     "execution_count": 28,
     "metadata": {},
     "output_type": "execute_result"
    }
   ],
   "source": [
    "# priceflag unique values\n",
    "bgd.priceflag.unique()"
   ]
  },
  {
   "cell_type": "code",
   "execution_count": 29,
   "metadata": {},
   "outputs": [
    {
     "data": {
      "text/plain": [
       "array(['#currency', 'BDT'], dtype=object)"
      ]
     },
     "execution_count": 29,
     "metadata": {},
     "output_type": "execute_result"
    }
   ],
   "source": [
    "# currency unique values\n",
    "bgd.currency.unique()"
   ]
  },
  {
   "cell_type": "code",
   "execution_count": 31,
   "metadata": {},
   "outputs": [
    {
     "data": {
      "text/plain": [
       "array(['#item+unit', '100 KG', 'KG', 'L'], dtype=object)"
      ]
     },
     "execution_count": 31,
     "metadata": {},
     "output_type": "execute_result"
    }
   ],
   "source": [
    "# unit unique values\n",
    "bgd.unit.unique()"
   ]
  },
  {
   "cell_type": "code",
   "execution_count": 33,
   "metadata": {},
   "outputs": [],
   "source": [
    "# convert price and usdprice to numeric\n",
    "bgd['price'] = pd.to_numeric(bgd['price'], errors='coerce')\n",
    "bgd['usdprice'] = pd.to_numeric(bgd['usdprice'], errors='coerce')"
   ]
  },
  {
   "cell_type": "code",
   "execution_count": 34,
   "metadata": {},
   "outputs": [
    {
     "name": "stdout",
     "output_type": "stream",
     "text": [
      "<class 'pandas.core.frame.DataFrame'>\n",
      "Int64Index: 9497 entries, 0 to 9496\n",
      "Data columns (total 10 columns):\n",
      " #   Column     Non-Null Count  Dtype  \n",
      "---  ------     --------------  -----  \n",
      " 0   date       9497 non-null   object \n",
      " 1   market     9497 non-null   object \n",
      " 2   category   9497 non-null   object \n",
      " 3   commodity  9497 non-null   object \n",
      " 4   unit       9497 non-null   object \n",
      " 5   priceflag  9497 non-null   object \n",
      " 6   pricetype  9497 non-null   object \n",
      " 7   currency   9497 non-null   object \n",
      " 8   price      9496 non-null   float64\n",
      " 9   usdprice   9496 non-null   float64\n",
      "dtypes: float64(2), object(8)\n",
      "memory usage: 816.1+ KB\n"
     ]
    }
   ],
   "source": [
    "bgd.info()"
   ]
  },
  {
   "cell_type": "code",
   "execution_count": 35,
   "metadata": {},
   "outputs": [
    {
     "data": {
      "text/plain": [
       "<AxesSubplot:xlabel='market', ylabel='price'>"
      ]
     },
     "execution_count": 35,
     "metadata": {},
     "output_type": "execute_result"
    }
   ],
   "source": [
    "# plot price by market\n",
    "plt.figure(figsize=(20,10))\n",
    "sns.barplot(x='market', y='price', data=bgd)"
   ]
  },
  {
   "cell_type": "code",
   "execution_count": 36,
   "metadata": {},
   "outputs": [
    {
     "data": {
      "text/plain": [
       "<AxesSubplot:xlabel='market', ylabel='price'>"
      ]
     },
     "execution_count": 36,
     "metadata": {},
     "output_type": "execute_result"
    }
   ],
   "source": [
    "# pointplot price by market\n",
    "plt.figure(figsize=(20,10))\n",
    "sns.pointplot(x='market', y='price', data=bgd)"
   ]
  },
  {
   "cell_type": "code",
   "execution_count": 44,
   "metadata": {},
   "outputs": [
    {
     "data": {
      "text/plain": [
       "<seaborn.axisgrid.PairGrid at 0x1726b0f9a60>"
      ]
     },
     "execution_count": 44,
     "metadata": {},
     "output_type": "execute_result"
    }
   ],
   "source": [
    "# visualize data\n",
    "sns.pairplot(bgd)"
   ]
  }
 ],
 "metadata": {
  "kernelspec": {
   "display_name": "base",
   "language": "python",
   "name": "python3"
  },
  "language_info": {
   "codemirror_mode": {
    "name": "ipython",
    "version": 3
   },
   "file_extension": ".py",
   "mimetype": "text/x-python",
   "name": "python",
   "nbconvert_exporter": "python",
   "pygments_lexer": "ipython3",
   "version": "3.9.13"
  },
  "orig_nbformat": 4,
  "vscode": {
   "interpreter": {
    "hash": "f08154012ddadd8e950e6e9e035c7a7b32c136e7647e9b7c77e02eb723a8bedb"
   }
  }
 },
 "nbformat": 4,
 "nbformat_minor": 2
}
